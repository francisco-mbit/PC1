{
 "cells": [
  {
   "cell_type": "code",
   "execution_count": null,
   "id": "094b5f55-c28e-4c83-84b1-1f78c47e20f0",
   "metadata": {},
   "outputs": [],
   "source": []
  },
  {
   "cell_type": "code",
   "execution_count": null,
   "id": "067b9a0d-6d24-42e7-80d5-cc92571a8cef",
   "metadata": {},
   "outputs": [],
   "source": [
    "import requests\n",
    "import zipfile\n",
    "import io\n",
    "import pandas as pd"
   ]
  },
  {
   "cell_type": "markdown",
   "id": "a8e2e3b0-d95e-4150-b47b-efb88e757d92",
   "metadata": {},
   "source": [
    "1. Descarga de datos\n",
    "Descarga los datasets para vinos tintos y blancos desde la siguiente URL: Wine Quality Dataset.\n",
    " - Asegúrate de que ambos datasets se encuentren disponibles en tu entorno de trabajo como archivos CSV.\n",
    " - Idealmente, intenta llevarlo a cabo de manera programática para no tener que hacer operaciones manualmente."
   ]
  },
  {
   "cell_type": "code",
   "execution_count": null,
   "id": "b8c3cf02-ed0a-4c0b-af17-9c29143bd567",
   "metadata": {},
   "outputs": [],
   "source": [
    "# URL  datasets - ZIP \n",
    "url = \"https://archive.ics.uci.edu/static/public/186/wine+quality.zip\"\n",
    "\n",
    "# Descarga archivo ZIP \n",
    "response = requests.get(url)\n",
    "z = zipfile.ZipFile(io.BytesIO(response.content))\n",
    "z.extractall(\"wine_quality\")  # Extraer zip en la carpeta wine_quality"
   ]
  },
  {
   "cell_type": "code",
   "execution_count": null,
   "id": "90dde27d-4ff9-4720-8c1a-9513f878c371",
   "metadata": {},
   "outputs": [],
   "source": [
    "# Carga archivos csv\n",
    "df_red = pd.read_csv(\"wine_quality/winequality-red.csv\",sep=\";\")\n",
    "df_white = pd.read_csv(\"wine_quality/winequality-white.csv\", sep=\";\")"
   ]
  },
  {
   "cell_type": "code",
   "execution_count": null,
   "id": "c59d558d-5b23-4091-8afd-bda329974ea2",
   "metadata": {},
   "outputs": [],
   "source": [
    "df_red.head()"
   ]
  },
  {
   "cell_type": "code",
   "execution_count": null,
   "id": "75b54e0a-2ccc-4ec9-b1fd-3941c189aad2",
   "metadata": {},
   "outputs": [],
   "source": [
    "df_white.head()"
   ]
  },
  {
   "cell_type": "markdown",
   "id": "3fe9e4fe-a3cf-4abb-9ba7-8c33cf416127",
   "metadata": {},
   "source": [
    "2. Combinar los datos\n",
    "\n",
    "- Usa Pandas para cargar ambos datasets en dataframes en memoria. - Combina los datos en un único dataframe añadiendo una columna adicional que indique el tipo de vino (`red` o `white`). - ¿Cuántos registros tenemos? ¿Cuántas variables y de qué tipo?"
   ]
  },
  {
   "cell_type": "code",
   "execution_count": null,
   "id": "63dd7524-419d-4093-9dd4-ec2a261411fb",
   "metadata": {},
   "outputs": [],
   "source": [
    "#Añadir columna type_wine\n",
    "df_red['type_wine']=\"red\"\n",
    "df_white['type_wine']=\"white\""
   ]
  },
  {
   "cell_type": "code",
   "execution_count": null,
   "id": "a8145ad0-6816-423e-8d8b-844984bf9824",
   "metadata": {},
   "outputs": [],
   "source": [
    "#Combinar los dos csv\n",
    "df_wine = pd.concat([df_red, df_white], ignore_index=True)"
   ]
  },
  {
   "cell_type": "code",
   "execution_count": null,
   "id": "7a1cc92b-e64f-4794-bb04-e439ecf2e9d9",
   "metadata": {},
   "outputs": [],
   "source": [
    "df_wine"
   ]
  },
  {
   "cell_type": "code",
   "execution_count": null,
   "id": "b72488a5-e3ac-4201-ae11-a98df2341fee",
   "metadata": {},
   "outputs": [],
   "source": [
    "num_registros = df_wine.shape[0]\n",
    "num_variables = df_wine.shape[1]\n",
    "tipos_variables = df_wine.dtypes"
   ]
  },
  {
   "cell_type": "code",
   "execution_count": null,
   "id": "398c6f1b-9e83-4e51-86cc-5cfed66d4022",
   "metadata": {},
   "outputs": [],
   "source": [
    "print(f\"Registros: {num_registros}\")\n",
    "print(f\"Variables: {num_variables}\")"
   ]
  },
  {
   "cell_type": "code",
   "execution_count": null,
   "id": "deaca6aa-2ca3-4bb8-ba9b-8b6f9f928d9d",
   "metadata": {},
   "outputs": [],
   "source": [
    "print(f\"Tipos de variables:\\n{tipos_variables}\")"
   ]
  },
  {
   "cell_type": "markdown",
   "id": "d74d51bd-a5d5-4359-97ce-157283727c43",
   "metadata": {},
   "source": [
    "3. Filtrar atípicos y manejar datos ausentes\n",
    "\n",
    "- Realiza un análisis estadístico o inspección visual de cada columna numérica para identificar valores atípicos. - Usa Pandas para filtrar y eliminar los datos atípicos y los valores ausentes. Explica en tu entrega qué criterios utilizaste para identificar los atípicos."
   ]
  },
  {
   "cell_type": "code",
   "execution_count": null,
   "id": "5cac1948-5122-44ef-977d-e0a399ed0fd4",
   "metadata": {},
   "outputs": [],
   "source": [
    "# Descripción estadística básica\n",
    "desc_stats = df_wine.describe()"
   ]
  },
  {
   "cell_type": "code",
   "execution_count": null,
   "id": "1e76e1fb-e71e-42cd-afd6-c54fd0f16c34",
   "metadata": {},
   "outputs": [],
   "source": [
    "print(\"Estadísticas Descriptivas:\")\n",
    "print(desc_stats)"
   ]
  },
  {
   "cell_type": "code",
   "execution_count": null,
   "id": "7c654a19-9186-4315-8503-0c36a7b416e0",
   "metadata": {},
   "outputs": [],
   "source": [
    "#Identificar valores atípicos utilizando IQR\n",
    "df_wine_numeric = df_wine.select_dtypes(include=['float64', 'int64'])\n",
    "Q1 = df_wine_numeric.quantile(0.25)\n",
    "Q3 = df_wine_numeric.quantile(0.75)\n",
    "IQR = Q3 - Q1"
   ]
  },
  {
   "cell_type": "code",
   "execution_count": null,
   "id": "5203351f-f7fa-483c-a4cb-4eaff8df4f87",
   "metadata": {},
   "outputs": [],
   "source": [
    "# Calcular los límites inferior y superior\n",
    "lower_bound = Q1 - 1.5 * IQR\n",
    "upper_bound = Q3 + 1.5 * IQR\n",
    "mask = (df_wine_numeric >= lower_bound) & (df_wine_numeric <= upper_bound)"
   ]
  },
  {
   "cell_type": "code",
   "execution_count": null,
   "id": "8c8edbf2-eabb-43a1-a6f4-e9892e4dde50",
   "metadata": {},
   "outputs": [],
   "source": [
    "# Filtrar los valores atípicos\n",
    "df_wine_filtered = df_wine_numeric[mask.all(axis=1)]\n",
    "\n",
    "# Eliminar los valores ausentes\n",
    "df_wine_end = df_wine_filtered.dropna()"
   ]
  },
  {
   "cell_type": "code",
   "execution_count": null,
   "id": "d319ef50-9e3e-4251-af9a-41b4c0d735a3",
   "metadata": {},
   "outputs": [],
   "source": [
    "# Seleccionar las columnas de texto del DataFrame original\n",
    "df_wine_text = df_wine.select_dtypes(include=['object', 'string'])\n",
    "\n",
    "# Combinar el DataFrame filtrado numérico con las columnas de texto\n",
    "df_final = pd.concat([df_wine_end, df_wine_text], axis=1)\n",
    "df_final.to_csv('vinos.csv', index=False)"
   ]
  },
  {
   "cell_type": "code",
   "execution_count": null,
   "id": "f52280b3",
   "metadata": {},
   "outputs": [],
   "source": [
    "# Ordenar el DataFrame por 'nombre_columna' de manera ascendente\n",
    "df_ordenado = df_final.sort_values(by='fixed acidity', ascending=True)\n",
    "\n",
    "# Guardar el DataFrame ordenado en un archivo CSV sin índice\n",
    "df.to_csv('archivo_ordenado.csv', index=False)"
   ]
  },
  {
   "cell_type": "code",
   "execution_count": null,
   "id": "270a1995-1bc1-4022-b94c-0633ac511773",
   "metadata": {},
   "outputs": [],
   "source": [
    "print(f\"DataFrame después de eliminar valores atípicos: \\n\\n{df_final.describe()}\")"
   ]
  },
  {
   "cell_type": "markdown",
   "id": "3c702926-58a5-4388-89c6-c1bd8917d29d",
   "metadata": {},
   "source": [
    "4. Almacenar los datos limpios en SQLite\n",
    "\n",
    "- Usa SQLite para almacenar el dataframe limpio en una base de datos persistente. - Sigue la documentación oficial de SQLite: [SQLite Python Documentation](https://docs.python.org/3/library/sqlite3.html)."
   ]
  },
  {
   "cell_type": "code",
   "execution_count": null,
   "id": "d739fec9-6b55-4760-9341-89f4d1fed902",
   "metadata": {},
   "outputs": [],
   "source": [
    "import sqlite3\n",
    "\n",
    "# Creamos la base de datos SQLite\n",
    "conn = sqlite3.connect('wines_sqlite.db')\n",
    "\n",
    "# Guardar el dataframe en una tabla llamada 'vinos'\n",
    "df_final.to_sql('wines', conn, if_exists='replace', index=False)\n",
    "\n",
    "print(\"Datos guardados en la base de datos SQLite.\")\n",
    "\n",
    "# Cerrar la conexión\n",
    "conn.close()"
   ]
  },
  {
   "cell_type": "markdown",
   "id": "7f68c60d-4490-4dbf-9475-e41aa476608c",
   "metadata": {},
   "source": [
    "5. Realizar 3 consultas en SQLite\n",
    "\n",
    "Basándote en los datos y las columnas del dataset, realiza las siguientes consultas:\n"
   ]
  },
  {
   "cell_type": "code",
   "execution_count": null,
   "id": "7830a05a-ca13-4ffb-ac93-2e3ddfda3e98",
   "metadata": {},
   "outputs": [],
   "source": [
    "# Reconectamos con la base de datos\n",
    "conn = sqlite3.connect('wines_sqlite.db')"
   ]
  },
  {
   "cell_type": "markdown",
   "id": "abbc9e26",
   "metadata": {},
   "source": [
    "\n",
    "1. Consulta 1: ¿Cuál es el promedio de calidad (`quality`) por tipo de vino (`type`)?"
   ]
  },
  {
   "cell_type": "code",
   "execution_count": null,
   "id": "20ee17e3",
   "metadata": {},
   "outputs": [],
   "source": [
    "# Consulta 1: Promedio de calidad por tipo\n",
    "query1 = \"\"\"\n",
    "SELECT type_wine, AVG(quality) as avg_quality\n",
    "FROM wines\n",
    "GROUP BY type_wine\n",
    "\"\"\"\n",
    "df_query1 = pd.read_sql_query(query1, conn)\n",
    "print(\"Consulta 1 - Promedio de Calidad por Tipo:\")\n",
    "print(df_query1)"
   ]
  },
  {
   "cell_type": "markdown",
   "id": "46e40779-b183-49cc-b109-f38b1edcec89",
   "metadata": {},
   "source": [
    "2. Consulta 2: ¿Cuántos vinos tienen un nivel de alcohol superior a 10.5, agrupados por tipo?"
   ]
  },
  {
   "cell_type": "code",
   "execution_count": null,
   "id": "b4e0668b-5e85-453b-adc8-70cf22a7f7f3",
   "metadata": {},
   "outputs": [],
   "source": [
    "# Consulta 2: Conteo de vinos con alcohol > 10.5 agrupados por tipo\n",
    "query2 = \"\"\"\n",
    "SELECT type_wine, COUNT(*) as count_alcohol_high\n",
    "FROM wines\n",
    "WHERE alcohol > 10.5\n",
    "GROUP BY type_wine\n",
    "\"\"\"\n",
    "df_query2 = pd.read_sql_query(query2, conn)\n",
    "print(\"\\nConsulta 2 - Vinos con Alcohol > 10.5:\")\n",
    "print(df_query2)"
   ]
  },
  {
   "cell_type": "markdown",
   "id": "27a8a96e-bd87-4600-9799-1f81cae4d831",
   "metadata": {},
   "source": [
    "3. Consulta 3: Obtén el conteo de vinos por nivel de acidez (`fixed acidity`) agrupados en rangos (por ejemplo, de 0-5, 5-10, 10-15)."
   ]
  },
  {
   "cell_type": "code",
   "execution_count": null,
   "id": "abb67242-3eb1-4f1b-b0a7-5ceebc4c7e00",
   "metadata": {},
   "outputs": [],
   "source": [
    "# Consulta 3: Conteo de vinos por rango de acidez\n",
    "query3 = \"\"\"\n",
    "WITH ranges AS (\n",
    "    SELECT '0-5' AS acidity_range\n",
    "    UNION ALL\n",
    "    SELECT '5-10'\n",
    "    UNION ALL\n",
    "    SELECT '10-15'\n",
    "    UNION ALL\n",
    "    SELECT '15+'\n",
    ")\n",
    "SELECT \n",
    "    r.acidity_range,\n",
    "    COALESCE(w.count, 0) AS count\n",
    "FROM ranges r\n",
    "LEFT JOIN (\n",
    "    SELECT \n",
    "        CASE \n",
    "            WHEN [fixed acidity] < 5 THEN '0-5'\n",
    "            WHEN [fixed acidity] >= 5 AND [fixed acidity] < 10 THEN '5-10'\n",
    "            WHEN [fixed acidity] >= 10 AND [fixed acidity] < 15 THEN '10-15'\n",
    "            ELSE '15+'\n",
    "        END AS acidity_range,\n",
    "        COUNT(*) AS count\n",
    "    FROM wines\n",
    "    GROUP BY acidity_range\n",
    ") w ON r.acidity_range = w.acidity_range\n",
    "ORDER BY \n",
    "    CASE \n",
    "        WHEN r.acidity_range = '15+' THEN 1\n",
    "        WHEN r.acidity_range = '10-15' THEN 2\n",
    "        WHEN r.acidity_range = '5-10' THEN 3\n",
    "        WHEN r.acidity_range = '0-5' THEN 4\n",
    "    END\n",
    "\"\"\"\n",
    "df_query3 = pd.read_sql_query(query3, conn)\n",
    "print(\"\\nConsulta 3 - Conteo por Rango de Acidez:\")\n",
    "print(df_query3)\n"
   ]
  },
  {
   "cell_type": "code",
   "execution_count": null,
   "id": "ce134fa5",
   "metadata": {},
   "outputs": [],
   "source": [
    "# Cerramos la conexión con la base de datos. \n",
    "conn.close()"
   ]
  },
  {
   "cell_type": "markdown",
   "id": "d068650b-3d1b-426b-b0b9-a64089453995",
   "metadata": {},
   "source": [
    "6. Exportar datos a JSONLines\n",
    "\n",
    "De cara a una potencial insercion en una base de datos noSQL como `mongoDB`, podemos servirnos de pandas para preparar los datos.\n",
    "\n",
    "- ¿Qué estructura de datos de python es la más similar a un documento noSQL?\n"
   ]
  },
  {
   "cell_type": "code",
   "execution_count": null,
   "id": "cd6c4fd8-c840-4ccf-879e-3daca1404974",
   "metadata": {},
   "outputs": [],
   "source": []
  },
  {
   "cell_type": "markdown",
   "id": "beb017f8-35e8-4b3c-ab40-04f314e6d21b",
   "metadata": {},
   "source": [
    "\n",
    "- Usa Pandas para transformar los datos de una de las consultas en un archivo JSONLines.\n",
    "\n",
    "- Usa la librería `jsonlines` para guardar el archivo.\n"
   ]
  },
  {
   "cell_type": "code",
   "execution_count": null,
   "id": "ff99787d-27d3-469c-b2c8-38c7662eb56f",
   "metadata": {},
   "outputs": [],
   "source": []
  },
  {
   "cell_type": "markdown",
   "id": "d0007f6b-38fc-43a2-99aa-77b6a47a5dc9",
   "metadata": {},
   "source": [
    "- ¿Qué problemas podrían surgir al transformar un dataframe en jsonlines?"
   ]
  },
  {
   "cell_type": "code",
   "execution_count": null,
   "id": "15a1ed10-880e-4671-8eac-7ae979f26fce",
   "metadata": {},
   "outputs": [],
   "source": []
  },
  {
   "cell_type": "markdown",
   "id": "7aa27efe-12f7-4fb0-bcfa-d0dce25bb4fb",
   "metadata": {},
   "source": [
    "- Añade una columna que sea originalmente un `np.array`,¿qué sucede al transformarlo en jsonlines?"
   ]
  },
  {
   "cell_type": "code",
   "execution_count": null,
   "id": "27a9e237-1ef2-4874-be20-f2dd5bdffca7",
   "metadata": {},
   "outputs": [],
   "source": []
  },
  {
   "cell_type": "markdown",
   "id": "bd5ee03e-3580-41cf-836d-5cefc10f5189",
   "metadata": {},
   "source": [
    "- Añade una columna que sea originalmente un `pd.datetime`,¿qué sucede al transformarlo en jsonlines?"
   ]
  },
  {
   "cell_type": "code",
   "execution_count": null,
   "id": "14471b7f-da1f-4986-8be7-4e9916f6aa33",
   "metadata": {},
   "outputs": [],
   "source": []
  },
  {
   "cell_type": "markdown",
   "id": "71841a3e-fcd8-40fc-99d2-08e5170e05a9",
   "metadata": {},
   "source": [
    "7. Análisis de calidad de los vinos\n",
    "\n",
    "- Inspecciona qué caracteriza a los vinos tintos y blancos con mayor calidad (`quality`)."
   ]
  },
  {
   "cell_type": "code",
   "execution_count": null,
   "id": "7b9d08e8-676f-4fb2-bb43-059e3ca2b048",
   "metadata": {},
   "outputs": [],
   "source": []
  },
  {
   "cell_type": "markdown",
   "id": "c0f54d4b-bcb6-46d2-9507-afa985791484",
   "metadata": {},
   "source": [
    "- Usa análisis estadístico, gráficos o cualquier técnica que consideres relevante para identificar patrones."
   ]
  },
  {
   "cell_type": "code",
   "execution_count": null,
   "id": "4ed6a514-20fd-4d35-943c-37167225cee3",
   "metadata": {},
   "outputs": [],
   "source": []
  }
 ],
 "metadata": {
  "kernelspec": {
   "display_name": "alonsoperez-olleros-WifniZWw",
   "language": "python",
   "name": "python3"
  },
  "language_info": {
   "codemirror_mode": {
    "name": "ipython",
    "version": 3
   },
   "file_extension": ".py",
   "mimetype": "text/x-python",
   "name": "python",
   "nbconvert_exporter": "python",
   "pygments_lexer": "ipython3",
   "version": "3.12.7"
  }
 },
 "nbformat": 4,
 "nbformat_minor": 5
}
